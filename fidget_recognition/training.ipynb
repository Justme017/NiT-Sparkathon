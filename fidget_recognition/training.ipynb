{
 "cells": [
  {
   "cell_type": "code",
   "execution_count": 8,
   "metadata": {},
   "outputs": [],
   "source": [
    "import pandas as pd\n",
    "import numpy as np\n",
    "import matplotlib.pyplot as plt\n",
    "import os\n",
    "import random\n",
    "import tensorflow as tf\n",
    "from tensorflow.keras.layers import Conv1D, Activation, Dropout\n",
    "from tensorflow.keras import Input, Model"
   ]
  },
  {
   "cell_type": "code",
   "execution_count": 9,
   "metadata": {},
   "outputs": [],
   "source": [
    "DATA_DIR = \"../../pamap2+physical+activity+monitoring/PAMAP2_Dataset/Protocol\""
   ]
  },
  {
   "cell_type": "code",
   "execution_count": 10,
   "metadata": {},
   "outputs": [],
   "source": [
    "subjects_list = [\n",
    "    \"subject101.dat\",\n",
    "    \"subject102.dat\",\n",
    "    \"subject103.dat\",\n",
    "    \"subject104.dat\",\n",
    "    \"subject105.dat\",\n",
    "    \"subject106.dat\",\n",
    "    \"subject107.dat\",\n",
    "    \"subject108.dat\",\n",
    "    \"subject109.dat\",\n",
    "]"
   ]
  },
  {
   "cell_type": "code",
   "execution_count": 41,
   "metadata": {},
   "outputs": [
    {
     "data": {
      "text/html": [
       "<div>\n",
       "<style scoped>\n",
       "    .dataframe tbody tr th:only-of-type {\n",
       "        vertical-align: middle;\n",
       "    }\n",
       "\n",
       "    .dataframe tbody tr th {\n",
       "        vertical-align: top;\n",
       "    }\n",
       "\n",
       "    .dataframe thead th {\n",
       "        text-align: right;\n",
       "    }\n",
       "</style>\n",
       "<table border=\"1\" class=\"dataframe\">\n",
       "  <thead>\n",
       "    <tr style=\"text-align: right;\">\n",
       "      <th></th>\n",
       "      <th>0</th>\n",
       "      <th>1</th>\n",
       "      <th>2</th>\n",
       "      <th>3</th>\n",
       "      <th>4</th>\n",
       "      <th>5</th>\n",
       "      <th>6</th>\n",
       "      <th>7</th>\n",
       "      <th>8</th>\n",
       "      <th>9</th>\n",
       "      <th>...</th>\n",
       "      <th>44</th>\n",
       "      <th>45</th>\n",
       "      <th>46</th>\n",
       "      <th>47</th>\n",
       "      <th>48</th>\n",
       "      <th>49</th>\n",
       "      <th>50</th>\n",
       "      <th>51</th>\n",
       "      <th>52</th>\n",
       "      <th>53</th>\n",
       "    </tr>\n",
       "  </thead>\n",
       "  <tbody>\n",
       "    <tr>\n",
       "      <th>0</th>\n",
       "      <td>5.64</td>\n",
       "      <td>0</td>\n",
       "      <td>NaN</td>\n",
       "      <td>33.0</td>\n",
       "      <td>2.79143</td>\n",
       "      <td>7.55389</td>\n",
       "      <td>-7.06374</td>\n",
       "      <td>2.87553</td>\n",
       "      <td>7.88823</td>\n",
       "      <td>-6.76139</td>\n",
       "      <td>...</td>\n",
       "      <td>-0.027148</td>\n",
       "      <td>-0.031190</td>\n",
       "      <td>-0.040897</td>\n",
       "      <td>-47.7695</td>\n",
       "      <td>-2.58701</td>\n",
       "      <td>59.8481</td>\n",
       "      <td>-0.012871</td>\n",
       "      <td>0.747947</td>\n",
       "      <td>-0.079841</td>\n",
       "      <td>0.658813</td>\n",
       "    </tr>\n",
       "    <tr>\n",
       "      <th>1</th>\n",
       "      <td>5.65</td>\n",
       "      <td>0</td>\n",
       "      <td>NaN</td>\n",
       "      <td>33.0</td>\n",
       "      <td>2.86086</td>\n",
       "      <td>7.43814</td>\n",
       "      <td>-7.21626</td>\n",
       "      <td>2.84248</td>\n",
       "      <td>7.63164</td>\n",
       "      <td>-6.85140</td>\n",
       "      <td>...</td>\n",
       "      <td>0.012804</td>\n",
       "      <td>-0.036384</td>\n",
       "      <td>-0.014845</td>\n",
       "      <td>-47.7624</td>\n",
       "      <td>-2.81438</td>\n",
       "      <td>60.3407</td>\n",
       "      <td>0.014025</td>\n",
       "      <td>-0.748410</td>\n",
       "      <td>0.079043</td>\n",
       "      <td>-0.658360</td>\n",
       "    </tr>\n",
       "    <tr>\n",
       "      <th>2</th>\n",
       "      <td>5.66</td>\n",
       "      <td>0</td>\n",
       "      <td>100.0</td>\n",
       "      <td>33.0</td>\n",
       "      <td>2.80997</td>\n",
       "      <td>7.09430</td>\n",
       "      <td>-7.52376</td>\n",
       "      <td>2.79373</td>\n",
       "      <td>7.43545</td>\n",
       "      <td>-7.07744</td>\n",
       "      <td>...</td>\n",
       "      <td>-0.001695</td>\n",
       "      <td>-0.034529</td>\n",
       "      <td>-0.040074</td>\n",
       "      <td>-47.5393</td>\n",
       "      <td>-2.38909</td>\n",
       "      <td>60.9623</td>\n",
       "      <td>0.012714</td>\n",
       "      <td>-0.749508</td>\n",
       "      <td>0.075286</td>\n",
       "      <td>-0.657577</td>\n",
       "    </tr>\n",
       "    <tr>\n",
       "      <th>3</th>\n",
       "      <td>5.67</td>\n",
       "      <td>0</td>\n",
       "      <td>NaN</td>\n",
       "      <td>33.0</td>\n",
       "      <td>2.77138</td>\n",
       "      <td>6.98077</td>\n",
       "      <td>-7.52396</td>\n",
       "      <td>2.80627</td>\n",
       "      <td>7.29929</td>\n",
       "      <td>-7.24326</td>\n",
       "      <td>...</td>\n",
       "      <td>0.055437</td>\n",
       "      <td>-0.011560</td>\n",
       "      <td>0.015434</td>\n",
       "      <td>-47.4246</td>\n",
       "      <td>-2.72082</td>\n",
       "      <td>60.7103</td>\n",
       "      <td>0.012639</td>\n",
       "      <td>-0.749201</td>\n",
       "      <td>0.076030</td>\n",
       "      <td>-0.657843</td>\n",
       "    </tr>\n",
       "    <tr>\n",
       "      <th>4</th>\n",
       "      <td>5.68</td>\n",
       "      <td>0</td>\n",
       "      <td>NaN</td>\n",
       "      <td>33.0</td>\n",
       "      <td>2.76710</td>\n",
       "      <td>7.13119</td>\n",
       "      <td>-7.67848</td>\n",
       "      <td>2.78766</td>\n",
       "      <td>7.11797</td>\n",
       "      <td>-7.48445</td>\n",
       "      <td>...</td>\n",
       "      <td>0.017184</td>\n",
       "      <td>-0.034663</td>\n",
       "      <td>0.007239</td>\n",
       "      <td>-47.5412</td>\n",
       "      <td>-2.60153</td>\n",
       "      <td>60.3412</td>\n",
       "      <td>0.012571</td>\n",
       "      <td>-0.749291</td>\n",
       "      <td>0.076346</td>\n",
       "      <td>-0.657705</td>\n",
       "    </tr>\n",
       "  </tbody>\n",
       "</table>\n",
       "<p>5 rows × 54 columns</p>\n",
       "</div>"
      ],
      "text/plain": [
       "     0   1      2     3        4        5        6        7        8   \\\n",
       "0  5.64   0    NaN  33.0  2.79143  7.55389 -7.06374  2.87553  7.88823   \n",
       "1  5.65   0    NaN  33.0  2.86086  7.43814 -7.21626  2.84248  7.63164   \n",
       "2  5.66   0  100.0  33.0  2.80997  7.09430 -7.52376  2.79373  7.43545   \n",
       "3  5.67   0    NaN  33.0  2.77138  6.98077 -7.52396  2.80627  7.29929   \n",
       "4  5.68   0    NaN  33.0  2.76710  7.13119 -7.67848  2.78766  7.11797   \n",
       "\n",
       "        9   ...        44        45        46       47       48       49  \\\n",
       "0 -6.76139  ... -0.027148 -0.031190 -0.040897 -47.7695 -2.58701  59.8481   \n",
       "1 -6.85140  ...  0.012804 -0.036384 -0.014845 -47.7624 -2.81438  60.3407   \n",
       "2 -7.07744  ... -0.001695 -0.034529 -0.040074 -47.5393 -2.38909  60.9623   \n",
       "3 -7.24326  ...  0.055437 -0.011560  0.015434 -47.4246 -2.72082  60.7103   \n",
       "4 -7.48445  ...  0.017184 -0.034663  0.007239 -47.5412 -2.60153  60.3412   \n",
       "\n",
       "         50        51        52        53  \n",
       "0 -0.012871  0.747947 -0.079841  0.658813  \n",
       "1  0.014025 -0.748410  0.079043 -0.658360  \n",
       "2  0.012714 -0.749508  0.075286 -0.657577  \n",
       "3  0.012639 -0.749201  0.076030 -0.657843  \n",
       "4  0.012571 -0.749291  0.076346 -0.657705  \n",
       "\n",
       "[5 rows x 54 columns]"
      ]
     },
     "execution_count": 41,
     "metadata": {},
     "output_type": "execute_result"
    }
   ],
   "source": [
    "filepath = os.path.join(DATA_DIR, subjects_list[1])\n",
    "df = pd.read_csv(filepath, sep=r\"\\s+\", header=None)\n",
    "df.head()"
   ]
  },
  {
   "cell_type": "code",
   "execution_count": 42,
   "metadata": {},
   "outputs": [
    {
     "data": {
      "text/html": [
       "<div>\n",
       "<style scoped>\n",
       "    .dataframe tbody tr th:only-of-type {\n",
       "        vertical-align: middle;\n",
       "    }\n",
       "\n",
       "    .dataframe tbody tr th {\n",
       "        vertical-align: top;\n",
       "    }\n",
       "\n",
       "    .dataframe thead th {\n",
       "        text-align: right;\n",
       "    }\n",
       "</style>\n",
       "<table border=\"1\" class=\"dataframe\">\n",
       "  <thead>\n",
       "    <tr style=\"text-align: right;\">\n",
       "      <th></th>\n",
       "      <th>timestamp</th>\n",
       "      <th>action</th>\n",
       "      <th>acc_x</th>\n",
       "      <th>acc_y</th>\n",
       "      <th>acc_z</th>\n",
       "      <th>gyr_x</th>\n",
       "      <th>gyr_y</th>\n",
       "      <th>gyr_z</th>\n",
       "    </tr>\n",
       "  </thead>\n",
       "  <tbody>\n",
       "    <tr>\n",
       "      <th>0</th>\n",
       "      <td>5.64</td>\n",
       "      <td>0</td>\n",
       "      <td>2.79143</td>\n",
       "      <td>7.55389</td>\n",
       "      <td>-7.06374</td>\n",
       "      <td>1.01640</td>\n",
       "      <td>-0.289410</td>\n",
       "      <td>1.38207</td>\n",
       "    </tr>\n",
       "    <tr>\n",
       "      <th>1</th>\n",
       "      <td>5.65</td>\n",
       "      <td>0</td>\n",
       "      <td>2.86086</td>\n",
       "      <td>7.43814</td>\n",
       "      <td>-7.21626</td>\n",
       "      <td>1.08269</td>\n",
       "      <td>-0.393965</td>\n",
       "      <td>1.60935</td>\n",
       "    </tr>\n",
       "    <tr>\n",
       "      <th>2</th>\n",
       "      <td>5.66</td>\n",
       "      <td>0</td>\n",
       "      <td>2.80997</td>\n",
       "      <td>7.09430</td>\n",
       "      <td>-7.52376</td>\n",
       "      <td>1.14829</td>\n",
       "      <td>-0.521087</td>\n",
       "      <td>1.80748</td>\n",
       "    </tr>\n",
       "    <tr>\n",
       "      <th>3</th>\n",
       "      <td>5.67</td>\n",
       "      <td>0</td>\n",
       "      <td>2.77138</td>\n",
       "      <td>6.98077</td>\n",
       "      <td>-7.52396</td>\n",
       "      <td>1.24888</td>\n",
       "      <td>-0.511985</td>\n",
       "      <td>1.95031</td>\n",
       "    </tr>\n",
       "    <tr>\n",
       "      <th>4</th>\n",
       "      <td>5.68</td>\n",
       "      <td>0</td>\n",
       "      <td>2.76710</td>\n",
       "      <td>7.13119</td>\n",
       "      <td>-7.67848</td>\n",
       "      <td>1.27178</td>\n",
       "      <td>-0.525704</td>\n",
       "      <td>2.01367</td>\n",
       "    </tr>\n",
       "  </tbody>\n",
       "</table>\n",
       "</div>"
      ],
      "text/plain": [
       "   timestamp  action    acc_x    acc_y    acc_z    gyr_x     gyr_y    gyr_z\n",
       "0       5.64       0  2.79143  7.55389 -7.06374  1.01640 -0.289410  1.38207\n",
       "1       5.65       0  2.86086  7.43814 -7.21626  1.08269 -0.393965  1.60935\n",
       "2       5.66       0  2.80997  7.09430 -7.52376  1.14829 -0.521087  1.80748\n",
       "3       5.67       0  2.77138  6.98077 -7.52396  1.24888 -0.511985  1.95031\n",
       "4       5.68       0  2.76710  7.13119 -7.67848  1.27178 -0.525704  2.01367"
      ]
     },
     "execution_count": 42,
     "metadata": {},
     "output_type": "execute_result"
    }
   ],
   "source": [
    "df = df[[0, 1, 4, 5, 6, 10, 11, 12]]\n",
    "columns = [\n",
    "    \"timestamp\",\n",
    "    \"action\",\n",
    "    \"acc_x\",\n",
    "    \"acc_y\",\n",
    "    \"acc_z\",\n",
    "    \"gyr_x\",\n",
    "    \"gyr_y\",\n",
    "    \"gyr_z\",\n",
    "]\n",
    "df.columns = columns\n",
    "df = df.dropna(axis=0)\n",
    "df.head()"
   ]
  },
  {
   "cell_type": "code",
   "execution_count": 43,
   "metadata": {},
   "outputs": [
    {
     "data": {
      "text/plain": [
       "action\n",
       "0     183369\n",
       "4      31742\n",
       "17     28869\n",
       "7      28694\n",
       "3      25572\n",
       "6      25107\n",
       "1      23429\n",
       "2      22343\n",
       "16     20681\n",
       "12     17341\n",
       "13     15207\n",
       "24     13074\n",
       "5       8843\n",
       "Name: count, dtype: int64"
      ]
     },
     "execution_count": 43,
     "metadata": {},
     "output_type": "execute_result"
    }
   ],
   "source": [
    "df[\"action\"].value_counts()"
   ]
  },
  {
   "cell_type": "code",
   "execution_count": 26,
   "metadata": {},
   "outputs": [],
   "source": [
    "groups = {action: df_group for action, df_group in df.groupby('action')}"
   ]
  },
  {
   "cell_type": "code",
   "execution_count": 27,
   "metadata": {},
   "outputs": [],
   "source": [
    "def create_windows_from_group(df_group, window_size=120):\n",
    "    imu_data = df_group.iloc[:, 2:].values  # taking only the 6 IMU columns\n",
    "    windows = []\n",
    "    for i in range(len(imu_data) - window_size + 1):\n",
    "        windows.append(imu_data[i : i + window_size])\n",
    "    return np.array(windows)"
   ]
  },
  {
   "cell_type": "code",
   "execution_count": 28,
   "metadata": {},
   "outputs": [],
   "source": [
    "window_size = 120\n",
    "X_list = []\n",
    "y_list = []\n",
    "\n",
    "for action, df_group in groups.items():\n",
    "    windows = create_windows_from_group(df_group, window_size=window_size)\n",
    "    X_list.append(windows)\n",
    "\n",
    "    # Assign labels (one label per window)\n",
    "    y_list.append(np.array([action] * len(windows)))\n",
    "\n",
    "X = np.vstack(X_list)\n",
    "y = np.concatenate(y_list)"
   ]
  },
  {
   "cell_type": "code",
   "execution_count": 29,
   "metadata": {},
   "outputs": [
    {
     "name": "stdout",
     "output_type": "stream",
     "text": [
      "(373416, 120, 6)\n",
      "(373416,)\n"
     ]
    }
   ],
   "source": [
    "print(X.shape)\n",
    "print(y.shape)"
   ]
  },
  {
   "cell_type": "code",
   "execution_count": 30,
   "metadata": {},
   "outputs": [],
   "source": [
    "def sample_batch(X, y, batch_size=32):\n",
    "    idx = random.sample(range(len(X)), batch_size)\n",
    "    return X[idx], y[idx]"
   ]
  },
  {
   "cell_type": "code",
   "execution_count": 31,
   "metadata": {},
   "outputs": [
    {
     "name": "stdout",
     "output_type": "stream",
     "text": [
      "(32, 120, 6)\n",
      "(32,)\n"
     ]
    }
   ],
   "source": [
    "batch_x, batch_y = sample_batch(X, y, batch_size=32)\n",
    "print(batch_x.shape)  # (32, 120, 6)\n",
    "print(batch_y.shape)  # (32,)"
   ]
  },
  {
   "cell_type": "code",
   "execution_count": 32,
   "metadata": {},
   "outputs": [],
   "source": [
    "def simple_tcn(input_shape,\n",
    "               num_layers=3,\n",
    "               filters=64,\n",
    "               kernel_size=3,\n",
    "               num_classes=5,\n",
    "               dropout_rate=0.0):\n",
    "    \n",
    "    inputs = Input(shape=input_shape)\n",
    "    x = inputs\n",
    "\n",
    "    for i in range(num_layers):\n",
    "        x = Conv1D(filters=filters,\n",
    "                   kernel_size=kernel_size,\n",
    "                   padding='causal',\n",
    "                   dilation_rate=2**i)(x)\n",
    "        x = Activation('relu')(x)\n",
    "        if dropout_rate > 0:\n",
    "            x = Dropout(dropout_rate)(x)\n",
    "\n",
    "    # ✅ Either predict per timestep OR full sequence\n",
    "    # Option A: Use only last timestep output\n",
    "    x = x[:, -1, :]  # shape -> (batch, filters)\n",
    "\n",
    "    # ✅ Final classification layer\n",
    "    outputs = tf.keras.layers.Dense(num_classes, activation='softmax')(x)\n",
    "\n",
    "    model = Model(inputs, outputs)\n",
    "    return model\n"
   ]
  },
  {
   "cell_type": "code",
   "execution_count": 37,
   "metadata": {},
   "outputs": [
    {
     "data": {
      "text/html": [
       "<pre style=\"white-space:pre;overflow-x:auto;line-height:normal;font-family:Menlo,'DejaVu Sans Mono',consolas,'Courier New',monospace\"><span style=\"font-weight: bold\">Model: \"functional_2\"</span>\n",
       "</pre>\n"
      ],
      "text/plain": [
       "\u001b[1mModel: \"functional_2\"\u001b[0m\n"
      ]
     },
     "metadata": {},
     "output_type": "display_data"
    },
    {
     "data": {
      "text/html": [
       "<pre style=\"white-space:pre;overflow-x:auto;line-height:normal;font-family:Menlo,'DejaVu Sans Mono',consolas,'Courier New',monospace\">┏━━━━━━━━━━━━━━━━━━━━━━━━━━━━━━━━━┳━━━━━━━━━━━━━━━━━━━━━━━━┳━━━━━━━━━━━━━━━┓\n",
       "┃<span style=\"font-weight: bold\"> Layer (type)                    </span>┃<span style=\"font-weight: bold\"> Output Shape           </span>┃<span style=\"font-weight: bold\">       Param # </span>┃\n",
       "┡━━━━━━━━━━━━━━━━━━━━━━━━━━━━━━━━━╇━━━━━━━━━━━━━━━━━━━━━━━━╇━━━━━━━━━━━━━━━┩\n",
       "│ input_layer_2 (<span style=\"color: #0087ff; text-decoration-color: #0087ff\">InputLayer</span>)      │ (<span style=\"color: #00d7ff; text-decoration-color: #00d7ff\">None</span>, <span style=\"color: #00af00; text-decoration-color: #00af00\">120</span>, <span style=\"color: #00af00; text-decoration-color: #00af00\">6</span>)         │             <span style=\"color: #00af00; text-decoration-color: #00af00\">0</span> │\n",
       "├─────────────────────────────────┼────────────────────────┼───────────────┤\n",
       "│ conv1d_4 (<span style=\"color: #0087ff; text-decoration-color: #0087ff\">Conv1D</span>)               │ (<span style=\"color: #00d7ff; text-decoration-color: #00d7ff\">None</span>, <span style=\"color: #00af00; text-decoration-color: #00af00\">120</span>, <span style=\"color: #00af00; text-decoration-color: #00af00\">32</span>)        │         <span style=\"color: #00af00; text-decoration-color: #00af00\">1,568</span> │\n",
       "├─────────────────────────────────┼────────────────────────┼───────────────┤\n",
       "│ activation_4 (<span style=\"color: #0087ff; text-decoration-color: #0087ff\">Activation</span>)       │ (<span style=\"color: #00d7ff; text-decoration-color: #00d7ff\">None</span>, <span style=\"color: #00af00; text-decoration-color: #00af00\">120</span>, <span style=\"color: #00af00; text-decoration-color: #00af00\">32</span>)        │             <span style=\"color: #00af00; text-decoration-color: #00af00\">0</span> │\n",
       "├─────────────────────────────────┼────────────────────────┼───────────────┤\n",
       "│ dropout_4 (<span style=\"color: #0087ff; text-decoration-color: #0087ff\">Dropout</span>)             │ (<span style=\"color: #00d7ff; text-decoration-color: #00d7ff\">None</span>, <span style=\"color: #00af00; text-decoration-color: #00af00\">120</span>, <span style=\"color: #00af00; text-decoration-color: #00af00\">32</span>)        │             <span style=\"color: #00af00; text-decoration-color: #00af00\">0</span> │\n",
       "├─────────────────────────────────┼────────────────────────┼───────────────┤\n",
       "│ conv1d_5 (<span style=\"color: #0087ff; text-decoration-color: #0087ff\">Conv1D</span>)               │ (<span style=\"color: #00d7ff; text-decoration-color: #00d7ff\">None</span>, <span style=\"color: #00af00; text-decoration-color: #00af00\">120</span>, <span style=\"color: #00af00; text-decoration-color: #00af00\">32</span>)        │         <span style=\"color: #00af00; text-decoration-color: #00af00\">8,224</span> │\n",
       "├─────────────────────────────────┼────────────────────────┼───────────────┤\n",
       "│ activation_5 (<span style=\"color: #0087ff; text-decoration-color: #0087ff\">Activation</span>)       │ (<span style=\"color: #00d7ff; text-decoration-color: #00d7ff\">None</span>, <span style=\"color: #00af00; text-decoration-color: #00af00\">120</span>, <span style=\"color: #00af00; text-decoration-color: #00af00\">32</span>)        │             <span style=\"color: #00af00; text-decoration-color: #00af00\">0</span> │\n",
       "├─────────────────────────────────┼────────────────────────┼───────────────┤\n",
       "│ dropout_5 (<span style=\"color: #0087ff; text-decoration-color: #0087ff\">Dropout</span>)             │ (<span style=\"color: #00d7ff; text-decoration-color: #00d7ff\">None</span>, <span style=\"color: #00af00; text-decoration-color: #00af00\">120</span>, <span style=\"color: #00af00; text-decoration-color: #00af00\">32</span>)        │             <span style=\"color: #00af00; text-decoration-color: #00af00\">0</span> │\n",
       "├─────────────────────────────────┼────────────────────────┼───────────────┤\n",
       "│ get_item_2 (<span style=\"color: #0087ff; text-decoration-color: #0087ff\">GetItem</span>)            │ (<span style=\"color: #00d7ff; text-decoration-color: #00d7ff\">None</span>, <span style=\"color: #00af00; text-decoration-color: #00af00\">32</span>)             │             <span style=\"color: #00af00; text-decoration-color: #00af00\">0</span> │\n",
       "├─────────────────────────────────┼────────────────────────┼───────────────┤\n",
       "│ dense_2 (<span style=\"color: #0087ff; text-decoration-color: #0087ff\">Dense</span>)                 │ (<span style=\"color: #00d7ff; text-decoration-color: #00d7ff\">None</span>, <span style=\"color: #00af00; text-decoration-color: #00af00\">25</span>)             │           <span style=\"color: #00af00; text-decoration-color: #00af00\">825</span> │\n",
       "└─────────────────────────────────┴────────────────────────┴───────────────┘\n",
       "</pre>\n"
      ],
      "text/plain": [
       "┏━━━━━━━━━━━━━━━━━━━━━━━━━━━━━━━━━┳━━━━━━━━━━━━━━━━━━━━━━━━┳━━━━━━━━━━━━━━━┓\n",
       "┃\u001b[1m \u001b[0m\u001b[1mLayer (type)                   \u001b[0m\u001b[1m \u001b[0m┃\u001b[1m \u001b[0m\u001b[1mOutput Shape          \u001b[0m\u001b[1m \u001b[0m┃\u001b[1m \u001b[0m\u001b[1m      Param #\u001b[0m\u001b[1m \u001b[0m┃\n",
       "┡━━━━━━━━━━━━━━━━━━━━━━━━━━━━━━━━━╇━━━━━━━━━━━━━━━━━━━━━━━━╇━━━━━━━━━━━━━━━┩\n",
       "│ input_layer_2 (\u001b[38;5;33mInputLayer\u001b[0m)      │ (\u001b[38;5;45mNone\u001b[0m, \u001b[38;5;34m120\u001b[0m, \u001b[38;5;34m6\u001b[0m)         │             \u001b[38;5;34m0\u001b[0m │\n",
       "├─────────────────────────────────┼────────────────────────┼───────────────┤\n",
       "│ conv1d_4 (\u001b[38;5;33mConv1D\u001b[0m)               │ (\u001b[38;5;45mNone\u001b[0m, \u001b[38;5;34m120\u001b[0m, \u001b[38;5;34m32\u001b[0m)        │         \u001b[38;5;34m1,568\u001b[0m │\n",
       "├─────────────────────────────────┼────────────────────────┼───────────────┤\n",
       "│ activation_4 (\u001b[38;5;33mActivation\u001b[0m)       │ (\u001b[38;5;45mNone\u001b[0m, \u001b[38;5;34m120\u001b[0m, \u001b[38;5;34m32\u001b[0m)        │             \u001b[38;5;34m0\u001b[0m │\n",
       "├─────────────────────────────────┼────────────────────────┼───────────────┤\n",
       "│ dropout_4 (\u001b[38;5;33mDropout\u001b[0m)             │ (\u001b[38;5;45mNone\u001b[0m, \u001b[38;5;34m120\u001b[0m, \u001b[38;5;34m32\u001b[0m)        │             \u001b[38;5;34m0\u001b[0m │\n",
       "├─────────────────────────────────┼────────────────────────┼───────────────┤\n",
       "│ conv1d_5 (\u001b[38;5;33mConv1D\u001b[0m)               │ (\u001b[38;5;45mNone\u001b[0m, \u001b[38;5;34m120\u001b[0m, \u001b[38;5;34m32\u001b[0m)        │         \u001b[38;5;34m8,224\u001b[0m │\n",
       "├─────────────────────────────────┼────────────────────────┼───────────────┤\n",
       "│ activation_5 (\u001b[38;5;33mActivation\u001b[0m)       │ (\u001b[38;5;45mNone\u001b[0m, \u001b[38;5;34m120\u001b[0m, \u001b[38;5;34m32\u001b[0m)        │             \u001b[38;5;34m0\u001b[0m │\n",
       "├─────────────────────────────────┼────────────────────────┼───────────────┤\n",
       "│ dropout_5 (\u001b[38;5;33mDropout\u001b[0m)             │ (\u001b[38;5;45mNone\u001b[0m, \u001b[38;5;34m120\u001b[0m, \u001b[38;5;34m32\u001b[0m)        │             \u001b[38;5;34m0\u001b[0m │\n",
       "├─────────────────────────────────┼────────────────────────┼───────────────┤\n",
       "│ get_item_2 (\u001b[38;5;33mGetItem\u001b[0m)            │ (\u001b[38;5;45mNone\u001b[0m, \u001b[38;5;34m32\u001b[0m)             │             \u001b[38;5;34m0\u001b[0m │\n",
       "├─────────────────────────────────┼────────────────────────┼───────────────┤\n",
       "│ dense_2 (\u001b[38;5;33mDense\u001b[0m)                 │ (\u001b[38;5;45mNone\u001b[0m, \u001b[38;5;34m25\u001b[0m)             │           \u001b[38;5;34m825\u001b[0m │\n",
       "└─────────────────────────────────┴────────────────────────┴───────────────┘\n"
      ]
     },
     "metadata": {},
     "output_type": "display_data"
    },
    {
     "data": {
      "text/html": [
       "<pre style=\"white-space:pre;overflow-x:auto;line-height:normal;font-family:Menlo,'DejaVu Sans Mono',consolas,'Courier New',monospace\"><span style=\"font-weight: bold\"> Total params: </span><span style=\"color: #00af00; text-decoration-color: #00af00\">10,617</span> (41.47 KB)\n",
       "</pre>\n"
      ],
      "text/plain": [
       "\u001b[1m Total params: \u001b[0m\u001b[38;5;34m10,617\u001b[0m (41.47 KB)\n"
      ]
     },
     "metadata": {},
     "output_type": "display_data"
    },
    {
     "data": {
      "text/html": [
       "<pre style=\"white-space:pre;overflow-x:auto;line-height:normal;font-family:Menlo,'DejaVu Sans Mono',consolas,'Courier New',monospace\"><span style=\"font-weight: bold\"> Trainable params: </span><span style=\"color: #00af00; text-decoration-color: #00af00\">10,617</span> (41.47 KB)\n",
       "</pre>\n"
      ],
      "text/plain": [
       "\u001b[1m Trainable params: \u001b[0m\u001b[38;5;34m10,617\u001b[0m (41.47 KB)\n"
      ]
     },
     "metadata": {},
     "output_type": "display_data"
    },
    {
     "data": {
      "text/html": [
       "<pre style=\"white-space:pre;overflow-x:auto;line-height:normal;font-family:Menlo,'DejaVu Sans Mono',consolas,'Courier New',monospace\"><span style=\"font-weight: bold\"> Non-trainable params: </span><span style=\"color: #00af00; text-decoration-color: #00af00\">0</span> (0.00 B)\n",
       "</pre>\n"
      ],
      "text/plain": [
       "\u001b[1m Non-trainable params: \u001b[0m\u001b[38;5;34m0\u001b[0m (0.00 B)\n"
      ]
     },
     "metadata": {},
     "output_type": "display_data"
    }
   ],
   "source": [
    "# Input shape: (timesteps, features)\n",
    "input_shape = (120, 6)\n",
    "\n",
    "model = simple_tcn(\n",
    "    input_shape=input_shape,\n",
    "    num_layers=2,\n",
    "    filters=32,\n",
    "    kernel_size=8,\n",
    "    dropout_rate=0.1,\n",
    "    num_classes=25,\n",
    ")\n",
    "\n",
    "model.compile(optimizer='adam', loss='sparse_categorical_crossentropy', metrics=['accuracy'])\n",
    "model.summary()"
   ]
  },
  {
   "cell_type": "code",
   "execution_count": 38,
   "metadata": {},
   "outputs": [],
   "source": [
    "from sklearn.model_selection import train_test_split\n",
    "\n",
    "X_train, X_test, y_train, y_test = train_test_split(\n",
    "    X, y, test_size=0.2, random_state=42, shuffle=True\n",
    ")"
   ]
  },
  {
   "cell_type": "code",
   "execution_count": 39,
   "metadata": {},
   "outputs": [
    {
     "name": "stdout",
     "output_type": "stream",
     "text": [
      "NaNs in X: False\n",
      "Infs in X: False\n",
      "NaNs in y: False\n",
      "Infs in y: False\n"
     ]
    }
   ],
   "source": [
    "import numpy as np\n",
    "\n",
    "print(\"NaNs in X:\", np.isnan(X).any())\n",
    "print(\"Infs in X:\", np.isinf(X).any())\n",
    "\n",
    "print(\"NaNs in y:\", np.isnan(y).any())\n",
    "print(\"Infs in y:\", np.isinf(y).any())\n"
   ]
  },
  {
   "cell_type": "code",
   "execution_count": 40,
   "metadata": {},
   "outputs": [
    {
     "name": "stderr",
     "output_type": "stream",
     "text": [
      "2025-10-08 16:23:30.797635: W external/local_xla/xla/tsl/framework/cpu_allocator_impl.cc:84] Allocation of 860348160 exceeds 10% of free system memory.\n"
     ]
    },
    {
     "name": "stdout",
     "output_type": "stream",
     "text": [
      "Epoch 1/10\n",
      "\u001b[1m9336/9336\u001b[0m \u001b[32m━━━━━━━━━━━━━━━━━━━━\u001b[0m\u001b[37m\u001b[0m \u001b[1m64s\u001b[0m 7ms/step - accuracy: 0.7060 - loss: 0.9327 - val_accuracy: 0.7639 - val_loss: 0.7373\n",
      "Epoch 2/10\n",
      "\u001b[1m9336/9336\u001b[0m \u001b[32m━━━━━━━━━━━━━━━━━━━━\u001b[0m\u001b[37m\u001b[0m \u001b[1m64s\u001b[0m 7ms/step - accuracy: 0.7635 - loss: 0.7490 - val_accuracy: 0.7956 - val_loss: 0.6518\n",
      "Epoch 3/10\n",
      "\u001b[1m9336/9336\u001b[0m \u001b[32m━━━━━━━━━━━━━━━━━━━━\u001b[0m\u001b[37m\u001b[0m \u001b[1m62s\u001b[0m 7ms/step - accuracy: 0.7766 - loss: 0.7071 - val_accuracy: 0.8109 - val_loss: 0.6176\n",
      "Epoch 4/10\n",
      "\u001b[1m9336/9336\u001b[0m \u001b[32m━━━━━━━━━━━━━━━━━━━━\u001b[0m\u001b[37m\u001b[0m \u001b[1m63s\u001b[0m 7ms/step - accuracy: 0.7838 - loss: 0.6879 - val_accuracy: 0.8070 - val_loss: 0.6071\n",
      "Epoch 5/10\n",
      "\u001b[1m9336/9336\u001b[0m \u001b[32m━━━━━━━━━━━━━━━━━━━━\u001b[0m\u001b[37m\u001b[0m \u001b[1m63s\u001b[0m 7ms/step - accuracy: 0.7878 - loss: 0.6754 - val_accuracy: 0.8113 - val_loss: 0.6169\n",
      "Epoch 6/10\n",
      "\u001b[1m9336/9336\u001b[0m \u001b[32m━━━━━━━━━━━━━━━━━━━━\u001b[0m\u001b[37m\u001b[0m \u001b[1m65s\u001b[0m 7ms/step - accuracy: 0.7915 - loss: 0.6643 - val_accuracy: 0.8051 - val_loss: 0.6065\n",
      "Epoch 7/10\n",
      "\u001b[1m9336/9336\u001b[0m \u001b[32m━━━━━━━━━━━━━━━━━━━━\u001b[0m\u001b[37m\u001b[0m \u001b[1m65s\u001b[0m 7ms/step - accuracy: 0.7935 - loss: 0.6573 - val_accuracy: 0.8191 - val_loss: 0.5827\n",
      "Epoch 8/10\n",
      "\u001b[1m9336/9336\u001b[0m \u001b[32m━━━━━━━━━━━━━━━━━━━━\u001b[0m\u001b[37m\u001b[0m \u001b[1m64s\u001b[0m 7ms/step - accuracy: 0.7960 - loss: 0.6513 - val_accuracy: 0.8106 - val_loss: 0.5890\n",
      "Epoch 9/10\n",
      "\u001b[1m9336/9336\u001b[0m \u001b[32m━━━━━━━━━━━━━━━━━━━━\u001b[0m\u001b[37m\u001b[0m \u001b[1m205s\u001b[0m 22ms/step - accuracy: 0.7973 - loss: 0.6461 - val_accuracy: 0.8129 - val_loss: 0.5903\n",
      "Epoch 10/10\n",
      "\u001b[1m9336/9336\u001b[0m \u001b[32m━━━━━━━━━━━━━━━━━━━━\u001b[0m\u001b[37m\u001b[0m \u001b[1m64s\u001b[0m 7ms/step - accuracy: 0.7990 - loss: 0.6412 - val_accuracy: 0.8193 - val_loss: 0.5725\n"
     ]
    }
   ],
   "source": [
    "history = model.fit(\n",
    "    X_train,\n",
    "    y_train,\n",
    "    validation_data=(X_test, y_test),\n",
    "    epochs=10,\n",
    "    batch_size=32,\n",
    "    shuffle=True\n",
    ")"
   ]
  },
  {
   "cell_type": "code",
   "execution_count": 41,
   "metadata": {},
   "outputs": [
    {
     "name": "stderr",
     "output_type": "stream",
     "text": [
      "WARNING:absl:You are saving your model as an HDF5 file via `model.save()` or `keras.saving.save_model(model)`. This file format is considered legacy. We recommend using instead the native Keras format, e.g. `model.save('my_model.keras')` or `keras.saving.save_model(model, 'my_model.keras')`. \n"
     ]
    }
   ],
   "source": [
    "model.save(\"tcn_model.h5\")"
   ]
  },
  {
   "cell_type": "code",
   "execution_count": 42,
   "metadata": {},
   "outputs": [
    {
     "name": "stdout",
     "output_type": "stream",
     "text": [
      "INFO:tensorflow:Assets written to: /tmp/tmp9vzd1sqo/assets\n"
     ]
    },
    {
     "name": "stderr",
     "output_type": "stream",
     "text": [
      "INFO:tensorflow:Assets written to: /tmp/tmp9vzd1sqo/assets\n"
     ]
    },
    {
     "name": "stdout",
     "output_type": "stream",
     "text": [
      "Saved artifact at '/tmp/tmp9vzd1sqo'. The following endpoints are available:\n",
      "\n",
      "* Endpoint 'serve'\n",
      "  args_0 (POSITIONAL_ONLY): TensorSpec(shape=(None, 120, 6), dtype=tf.float32, name='keras_tensor_18')\n",
      "Output Type:\n",
      "  TensorSpec(shape=(None, 25), dtype=tf.float32, name=None)\n",
      "Captures:\n",
      "  140470775805584: TensorSpec(shape=(), dtype=tf.resource, name=None)\n",
      "  140470775805936: TensorSpec(shape=(), dtype=tf.resource, name=None)\n",
      "  140470775805056: TensorSpec(shape=(), dtype=tf.resource, name=None)\n",
      "  140470776438048: TensorSpec(shape=(), dtype=tf.resource, name=None)\n",
      "  140470776440688: TensorSpec(shape=(), dtype=tf.resource, name=None)\n",
      "  140470776441392: TensorSpec(shape=(), dtype=tf.resource, name=None)\n"
     ]
    },
    {
     "name": "stderr",
     "output_type": "stream",
     "text": [
      "W0000 00:00:1759934324.218029   17909 tf_tfl_flatbuffer_helpers.cc:364] Ignored output_format.\n",
      "W0000 00:00:1759934324.218691   17909 tf_tfl_flatbuffer_helpers.cc:367] Ignored drop_control_dependency.\n",
      "2025-10-08 16:38:44.224537: I tensorflow/cc/saved_model/reader.cc:83] Reading SavedModel from: /tmp/tmp9vzd1sqo\n",
      "2025-10-08 16:38:44.225208: I tensorflow/cc/saved_model/reader.cc:52] Reading meta graph with tags { serve }\n",
      "2025-10-08 16:38:44.225221: I tensorflow/cc/saved_model/reader.cc:147] Reading SavedModel debug info (if present) from: /tmp/tmp9vzd1sqo\n",
      "I0000 00:00:1759934324.233950   17909 mlir_graph_optimization_pass.cc:437] MLIR V1 optimization pass is not enabled\n",
      "2025-10-08 16:38:44.236230: I tensorflow/cc/saved_model/loader.cc:236] Restoring SavedModel bundle.\n",
      "2025-10-08 16:38:44.281582: I tensorflow/cc/saved_model/loader.cc:220] Running initialization op on SavedModel bundle at path: /tmp/tmp9vzd1sqo\n",
      "2025-10-08 16:38:44.291926: I tensorflow/cc/saved_model/loader.cc:471] SavedModel load for tags { serve }; Status: success: OK. Took 67043 microseconds.\n",
      "2025-10-08 16:38:44.376276: I tensorflow/compiler/mlir/tensorflow/utils/dump_mlir_util.cc:269] disabling MLIR crash reproducer, set env var `MLIR_CRASH_REPRODUCER_DIRECTORY` to enable.\n"
     ]
    }
   ],
   "source": [
    "converter = tf.lite.TFLiteConverter.from_keras_model(model)\n",
    "tflite_model = converter.convert()\n",
    "\n",
    "with open(\"tcn_model.tflite\", \"wb\") as f:\n",
    "    f.write(tflite_model)"
   ]
  },
  {
   "cell_type": "code",
   "execution_count": 43,
   "metadata": {},
   "outputs": [
    {
     "name": "stdout",
     "output_type": "stream",
     "text": [
      "INFO:tensorflow:Assets written to: /tmp/tmpl6dl5vbb/assets\n"
     ]
    },
    {
     "name": "stderr",
     "output_type": "stream",
     "text": [
      "INFO:tensorflow:Assets written to: /tmp/tmpl6dl5vbb/assets\n"
     ]
    },
    {
     "name": "stdout",
     "output_type": "stream",
     "text": [
      "Saved artifact at '/tmp/tmpl6dl5vbb'. The following endpoints are available:\n",
      "\n",
      "* Endpoint 'serve'\n",
      "  args_0 (POSITIONAL_ONLY): TensorSpec(shape=(None, 120, 6), dtype=tf.float32, name='keras_tensor_18')\n",
      "Output Type:\n",
      "  TensorSpec(shape=(None, 25), dtype=tf.float32, name=None)\n",
      "Captures:\n",
      "  140470775805584: TensorSpec(shape=(), dtype=tf.resource, name=None)\n",
      "  140470775805936: TensorSpec(shape=(), dtype=tf.resource, name=None)\n",
      "  140470775805056: TensorSpec(shape=(), dtype=tf.resource, name=None)\n",
      "  140470776438048: TensorSpec(shape=(), dtype=tf.resource, name=None)\n",
      "  140470776440688: TensorSpec(shape=(), dtype=tf.resource, name=None)\n",
      "  140470776441392: TensorSpec(shape=(), dtype=tf.resource, name=None)\n"
     ]
    },
    {
     "name": "stderr",
     "output_type": "stream",
     "text": [
      "/home/shenoy/focus-anchor/NiT-Sparkathon-Focus-Anchor/venv/lib/python3.10/site-packages/tensorflow/lite/python/convert.py:863: UserWarning: Statistics for quantized inputs were expected, but not specified; continuing anyway.\n",
      "  warnings.warn(\n",
      "W0000 00:00:1759934349.847061   17909 tf_tfl_flatbuffer_helpers.cc:364] Ignored output_format.\n",
      "W0000 00:00:1759934349.847082   17909 tf_tfl_flatbuffer_helpers.cc:367] Ignored drop_control_dependency.\n",
      "2025-10-08 16:39:09.847322: I tensorflow/cc/saved_model/reader.cc:83] Reading SavedModel from: /tmp/tmpl6dl5vbb\n",
      "2025-10-08 16:39:09.847916: I tensorflow/cc/saved_model/reader.cc:52] Reading meta graph with tags { serve }\n",
      "2025-10-08 16:39:09.847926: I tensorflow/cc/saved_model/reader.cc:147] Reading SavedModel debug info (if present) from: /tmp/tmpl6dl5vbb\n",
      "2025-10-08 16:39:09.852814: I tensorflow/cc/saved_model/loader.cc:236] Restoring SavedModel bundle.\n",
      "2025-10-08 16:39:09.877726: I tensorflow/cc/saved_model/loader.cc:220] Running initialization op on SavedModel bundle at path: /tmp/tmpl6dl5vbb\n",
      "2025-10-08 16:39:09.886554: I tensorflow/cc/saved_model/loader.cc:471] SavedModel load for tags { serve }; Status: success: OK. Took 39235 microseconds.\n",
      "fully_quantize: 0, inference_type: 6, input_inference_type: INT8, output_inference_type: INT8\n",
      "2025-10-08 16:39:10.100791: W tensorflow/compiler/mlir/lite/flatbuffer_export.cc:3705] Skipping runtime version metadata in the model. This will be generated by the exporter.\n"
     ]
    }
   ],
   "source": [
    "def representative_data_gen():\n",
    "    for i in range(100):\n",
    "        # X_train should be your training samples, shape (N,120,6)\n",
    "        sample = X_train[i:i+1].astype('float32')\n",
    "        yield [sample]\n",
    "\n",
    "converter = tf.lite.TFLiteConverter.from_keras_model(model)\n",
    "converter.optimizations = [tf.lite.Optimize.DEFAULT]\n",
    "converter.representative_dataset = representative_data_gen\n",
    "converter.target_spec.supported_ops = [tf.lite.OpsSet.TFLITE_BUILTINS_INT8]\n",
    "converter.inference_input_type = tf.int8\n",
    "converter.inference_output_type = tf.int8\n",
    "\n",
    "tflite_quant_model = converter.convert()\n",
    "\n",
    "with open(\"tcn_model_int8.tflite\", \"wb\") as f:\n",
    "    f.write(tflite_quant_model)"
   ]
  },
  {
   "cell_type": "code",
   "execution_count": null,
   "metadata": {},
   "outputs": [],
   "source": []
  },
  {
   "cell_type": "code",
   "execution_count": null,
   "metadata": {},
   "outputs": [],
   "source": []
  },
  {
   "cell_type": "code",
   "execution_count": null,
   "metadata": {},
   "outputs": [],
   "source": []
  },
  {
   "cell_type": "code",
   "execution_count": 3,
   "metadata": {},
   "outputs": [],
   "source": [
    "import pandas as pd\n",
    "import numpy as np\n",
    "import matplotlib.pyplot as plt\n",
    "import os\n",
    "import random\n",
    "import tensorflow as tf\n",
    "from tensorflow.keras.layers import Conv1D, Activation, Dropout\n",
    "from tensorflow.keras import Input, Model"
   ]
  },
  {
   "cell_type": "code",
   "execution_count": 7,
   "metadata": {},
   "outputs": [
    {
     "name": "stdout",
     "output_type": "stream",
     "text": [
      "Prediction: [[-128  127 -128 -128 -128 -128 -128 -128 -128 -128 -128 -128 -128 -128\n",
      "  -128 -128 -128 -128 -128 -128 -128 -128 -128 -128 -128]]\n"
     ]
    },
    {
     "name": "stderr",
     "output_type": "stream",
     "text": [
      "/home/shenoy/focus-anchor/NiT-Sparkathon-Focus-Anchor/venv/lib/python3.10/site-packages/tensorflow/lite/python/interpreter.py:457: UserWarning:     Warning: tf.lite.Interpreter is deprecated and is scheduled for deletion in\n",
      "    TF 2.20. Please use the LiteRT interpreter from the ai_edge_litert package.\n",
      "    See the [migration guide](https://ai.google.dev/edge/litert/migration)\n",
      "    for details.\n",
      "    \n",
      "  warnings.warn(_INTERPRETER_DELETION_WARNING)\n"
     ]
    }
   ],
   "source": [
    "# Load TFLite model\n",
    "interpreter = tf.lite.Interpreter(model_path=\"./sample_trained_model/tcn_model_int8.tflite\")\n",
    "interpreter.allocate_tensors()\n",
    "\n",
    "# Get input & output details\n",
    "input_details = interpreter.get_input_details()\n",
    "output_details = interpreter.get_output_details()\n",
    "\n",
    "# Example inference\n",
    "sample = np.zeros((1,120,6)).astype(\"int8\")\n",
    "interpreter.set_tensor(input_details[0]['index'], sample)\n",
    "interpreter.invoke()\n",
    "output = interpreter.get_tensor(output_details[0]['index'])\n",
    "print(\"Prediction:\", output)"
   ]
  },
  {
   "cell_type": "code",
   "execution_count": null,
   "metadata": {},
   "outputs": [],
   "source": []
  }
 ],
 "metadata": {
  "interpreter": {
   "hash": "1b533aa51823349a33fbde6c3f77b5e06b8edbcb23054262d6ea5402b1d77446"
  },
  "kernelspec": {
   "display_name": "Python 3.10.6 ('venv': venv)",
   "language": "python",
   "name": "python3"
  },
  "language_info": {
   "codemirror_mode": {
    "name": "ipython",
    "version": 3
   },
   "file_extension": ".py",
   "mimetype": "text/x-python",
   "name": "python",
   "nbconvert_exporter": "python",
   "pygments_lexer": "ipython3",
   "version": "3.10.6"
  },
  "orig_nbformat": 4
 },
 "nbformat": 4,
 "nbformat_minor": 2
}
